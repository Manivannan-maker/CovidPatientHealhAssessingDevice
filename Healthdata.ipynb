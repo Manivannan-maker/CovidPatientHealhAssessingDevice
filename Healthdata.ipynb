{
  "nbformat": 4,
  "nbformat_minor": 0,
  "metadata": {
    "colab": {
      "name": "Healthdata.ipynb",
      "provenance": [],
      "collapsed_sections": [],
      "authorship_tag": "ABX9TyNAzUcPmx1OnhdylyVqhUTd",
      "include_colab_link": true
    },
    "kernelspec": {
      "name": "python3",
      "display_name": "Python 3"
    },
    "language_info": {
      "name": "python"
    }
  },
  "cells": [
    {
      "cell_type": "markdown",
      "metadata": {
        "id": "view-in-github",
        "colab_type": "text"
      },
      "source": [
        "<a href=\"https://colab.research.google.com/github/Manivannan-maker/CovidPatientHealhAssessingDevice/blob/main/Healthdata.ipynb\" target=\"_parent\"><img src=\"https://colab.research.google.com/assets/colab-badge.svg\" alt=\"Open In Colab\"/></a>"
      ]
    },
    {
      "cell_type": "code",
      "metadata": {
        "id": "XBaO8_nqtoSX"
      },
      "source": [
        "\n",
        "## covid Health Data sets \n",
        "##Written by : Manivannan \n",
        "##E-mail: manivannan0212@gmail.com \n",
        "##Project:https://www.hackster.io/manivannan/covid-patient-health-assessing-device-using-edge-impulse-3f1151\n",
        "##github:https://github.com/Manivannan-maker/CovidPatientHealhAssessingDevice\n",
        "\n",
        "##disclaimer :\n",
        "##This is proof of concept based on some research paper published.This device shall not be used without any medical certifications as per the Government norms.\n",
        "\n",
        "\n",
        "\n",
        "# TensorFlow is an open source machine learning library\n",
        "import tensorflow as tf\n",
        "\n",
        "# Numpy is a math library\n",
        "import numpy as np\n",
        "# Pandas is a data manipulation library \n",
        "import pandas as pd\n",
        "# Matplotlib is a graphing library\n",
        "import matplotlib.pyplot as plt\n",
        "# Math is Python's math library\n",
        "import math\n",
        "\n",
        "# Set seed for experiment reproducibility\n",
        "seed = 1\n",
        "np.random.seed(seed)\n",
        "tf.random.set_seed(seed)"
      ],
      "execution_count": null,
      "outputs": []
    },
    {
      "cell_type": "markdown",
      "metadata": {
        "id": "5vaN_btxt0FB"
      },
      "source": [
        "# Data generation"
      ]
    },
    {
      "cell_type": "code",
      "metadata": {
        "colab": {
          "base_uri": "https://localhost:8080/"
        },
        "cellView": "code",
        "id": "IwOFO9Qat2q-",
        "outputId": "b7468f10-fe90-4e2d-ae64-014d9416c646"
      },
      "source": [
        "# Number of sample datapoints\n",
        "SAMPLES = 1800\n",
        "\n",
        "# Generate a uniformly distributed set of random numbers in the range from\n",
        "minutes = np.random.uniform(low=0, high=1500, size=SAMPLES).astype(np.uint32)\n",
        "\n",
        "# Stable Condition\n",
        "# SpO2 Range = 96 to 100\n",
        "#Respiratory Rate = 12 to 20\n",
        "#Pulse = 51 to 90\n",
        "#Body Temperature = 96 to 100\n",
        "\n",
        "StableSpO2=np.random.uniform(low=96, high=100, size=SAMPLES).astype(np.uint8)\n",
        "StableRR=np.random.uniform(low=12, high=20, size=SAMPLES).astype(np.uint8)\n",
        "StablePulse=np.random.uniform(low=51, high=90, size=SAMPLES).astype(np.uint8)\n",
        "StableTemp=np.random.uniform(low=96, high=100, size=SAMPLES).astype(np.float32)\n",
        "\n",
        "\n",
        "\n",
        "# Mild Condition\n",
        "# SpO2 Range = 93 to 95\n",
        "#Respiratory Rate = 21 to 24\n",
        "#Pulse = 41 to 50\n",
        "#Body Temperature = 100 to 102\n",
        "\n",
        "MildSpO2=np.random.uniform(low=93, high=95, size=SAMPLES).astype(np.uint8)\n",
        "MildRR=np.random.uniform(low=21, high=24, size=SAMPLES).astype(np.uint8)\n",
        "MildPulse=np.random.uniform(low=41, high=50, size=SAMPLES).astype(np.uint8)\n",
        "MildTemp=np.random.uniform(low=100, high=102, size=SAMPLES).astype(np.float32)\n",
        "\n",
        "\n",
        "# Moderate Condition\n",
        "# SpO2 Range = 90 to 92\n",
        "#Respiratory Rate = 25 to 30\n",
        "#Pulse = 41 to 50\n",
        "#Body Temperature = 102 to 106\n",
        "\n",
        "\n",
        "ModerateSpO2=np.random.uniform(low=90, high=92, size=SAMPLES).astype(np.uint8)\n",
        "ModerateRR=np.random.uniform(low=25, high=30, size=SAMPLES).astype(np.uint8)\n",
        "ModeratePulse=np.random.uniform(low=41, high=50, size=SAMPLES).astype(np.uint8)\n",
        "ModerateTemp=np.random.uniform(low=102, high=106, size=SAMPLES).astype(np.float32)\n",
        "\n",
        "\n",
        "# Critical Condition\n",
        "# SpO2 Range = 80 to 90\n",
        "#Respiratory Rate = 30 to 40\n",
        "#Pulse = 30 to 40\n",
        "#Body Temperature = 102 to 106\n",
        "\n",
        "\n",
        "CriticalSpO2=np.random.uniform(low=80, high=90, size=SAMPLES).astype(np.uint8)\n",
        "CriticalRR=np.random.uniform(low=30, high=40, size=SAMPLES).astype(np.uint8)\n",
        "CriticalPulse=np.random.uniform(low=30, high=40, size=SAMPLES).astype(np.uint8)\n",
        "CriticalTemp=np.random.uniform(low=102, high=106, size=SAMPLES).astype(np.float32)\n",
        "\n",
        "\n",
        "\n",
        "\n",
        "\n",
        "StableSpO2Datasets = pd.DataFrame(data=StableSpO2)\n",
        "StableRRDatasets = pd.DataFrame(data=StableRR)\n",
        "StablePulseDatasets = pd.DataFrame(data=StablePulse)\n",
        "StableTempDatasets = pd.DataFrame(data=StableTemp)\n",
        "\n",
        "\n",
        "MildSpO2Datasets = pd.DataFrame(data=MildSpO2)\n",
        "MildRRDatasets = pd.DataFrame(data=MildRR)\n",
        "MildPulseDatasets = pd.DataFrame(data=MildPulse)\n",
        "MildTempDatasets = pd.DataFrame(data=MildTemp)\n",
        "\n",
        "ModerateSpO2Datasets = pd.DataFrame(data=ModerateSpO2)\n",
        "ModerateRRDatasets = pd.DataFrame(data=ModerateRR)\n",
        "ModeratePulseDatasets = pd.DataFrame(data=ModeratePulse)\n",
        "ModerateTempDatasets = pd.DataFrame(data=ModerateTemp)\n",
        "\n",
        "CriticalSpO2Datasets = pd.DataFrame(data=CriticalSpO2)\n",
        "CriticalRRDatasets = pd.DataFrame(data=CriticalRR)\n",
        "CriticalPulseDatasets = pd.DataFrame(data=CriticalPulse)\n",
        "CriticalTempDatasets = pd.DataFrame(data=CriticalTemp)\n",
        "\n",
        "\n",
        "from google.colab import drive\n",
        "drive.mount(\"/content/gdrive\")\n",
        "\n",
        "\n",
        "%cd \"/content/gdrive/My Drive/PythonExports\"\n",
        "\n",
        "# Exporting MyDf dataframe\n",
        "\n",
        "StableSpO2Datasets.to_csv('StableSpO2Dataset.csv')\n",
        "StableRRDatasets.to_csv('StableRRDatasets.csv')\n",
        "StablePulseDatasets.to_csv('StablePulseDatasets.csv')\n",
        "StableTempDatasets.to_csv('StableTempDatasets.csv')\n",
        "\n",
        "MildSpO2Datasets.to_csv('MildSpO2Datasets.csv')\n",
        "MildRRDatasets.to_csv('MildRRDatasets.csv')\n",
        "MildPulseDatasets.to_csv('MildPulseDatasets.csv')\n",
        "MildTempDatasets.to_csv('MildTempDatasets.csv')\n",
        "\n",
        "ModerateSpO2Datasets.to_csv('ModerateSpO2Datasets.csv')\n",
        "ModerateRRDatasets.to_csv('ModerateRRDatasets.csv')\n",
        "ModeratePulseDatasets.to_csv('ModeratePulseDatasets.csv')\n",
        "ModerateTempDatasets.to_csv('ModerateTempDatasets.csv')\n",
        "\n",
        "CriticalSpO2Datasets.to_csv('CriticalSpO2Datasets.csv')\n",
        "CriticalRRDatasets.to_csv('CriticalRRDatasets.csv')\n",
        "CriticalPulseDatasets.to_csv('CriticalPulseDatasets.csv')\n",
        "CriticalTempDatasets.to_csv('CriticalTempDatasets.csv')\n",
        "\n",
        "\n"
      ],
      "execution_count": null,
      "outputs": [
        {
          "output_type": "stream",
          "text": [
            "Drive already mounted at /content/gdrive; to attempt to forcibly remount, call drive.mount(\"/content/gdrive\", force_remount=True).\n",
            "/content/gdrive/My Drive/PythonExports\n"
          ],
          "name": "stdout"
        }
      ]
    },
    {
      "cell_type": "code",
      "metadata": {
        "id": "h8HGJ1LSwU6l"
      },
      "source": [
        ""
      ],
      "execution_count": null,
      "outputs": []
    }
  ]
}